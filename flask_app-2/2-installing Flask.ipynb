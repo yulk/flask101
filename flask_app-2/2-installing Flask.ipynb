{
 "cells": [
  {
   "cell_type": "markdown",
   "source": [
    "# 如何安装FLASK\r\n",
    "\r\n",
    "注意: 在遵循以下步骤之前，请确保您的系统上已经安装了工作的 Python 安装和 virtualenv 包。要学习如何安装 Python 和 virtualenv，请点击[这里](https://overiq.com/django-1-10/installing-django/)。\r\n",
    "\r\n",
    "\r\n",
    "\r\n",
    "## Creating Virtual Environment 创建虚拟环境(可跳过)\r\n",
    "\r\n",
    "虚拟环境是 Python 安装的独立副本，在这里我们可以安装包而不影响全局的 Python 安装。创建一个名为 flask_app 的新目录。此目录将托管我们的 Flask 应用程序。\r\n",
    "\r\n",
    "```\r\n",
    "overiq@vm:~$ mkdir flask_app\r\n",
    "overiq@vm:~$ cd flask_app/\r\n",
    "overiq@vm:~/flask_app$ virtualenv env\r\n",
    "Using base prefix '/usr'\r\n",
    "New python executable in /home/overiq/flask_app/env/bin/python3\r\n",
    "Also creating executable in /home/overiq/flask_app/env/bin/python\r\n",
    "Installing setuptools, pip, wheel...done.\r\n",
    "overiq@-vm:~/flask_app$ source env/bin/activate\r\n",
    "#Windows 用户可以通过输入以下命令来激活虚拟环境。\r\n",
    "C:\\Users\\overiq\\flask_app>env\\Scripts\\activate\r\n",
    "(env) C:\\Users\\overiq\\flask_app>\r\n",
    "```\r\n",
    "注意提示字符串 i.e (env)前的括号中的虚拟环境名称。这表明我们的虚拟环境已经启动并正在运行。从现在开始安装的软件包只能在这个虚拟环境中使用。\r\n",
    "激活虚拟环境会暂时改变 PATH 环境变量。因此，如果您在终端中键入 Python，那么驻留在虚拟环境 env 目录中的 Python 解释器将被调用，而不是全局 Python 解释器。\r\n",
    "一旦你完成了与虚拟环境的工作，你必须使用 deactivate 命令停用它。`(env) overiq@vm:~/flask_app$ deactivate` 此命令使全局 Python 解释器再次可用。\r\n",
    "\r\n",
    "## 安装flask\r\n",
    "\r\n",
    "要在虚拟环境中安装 Flask，请输入以下命令。\r\n",
    "`pip install flask`\r\n",
    "\r\n",
    "您可以通过调用 Python 解释器和导入 Flask 来验证安装是否成功。"
   ],
   "metadata": {}
  },
  {
   "cell_type": "code",
   "execution_count": 1,
   "source": [
    "import flask\r\n",
    "flask.__version__"
   ],
   "outputs": [
    {
     "data": {
      "text/plain": [
       "'1.1.4'"
      ]
     },
     "metadata": {},
     "output_type": "display_data"
    }
   ],
   "metadata": {}
  }
 ],
 "metadata": {
  "orig_nbformat": 4,
  "language_info": {
   "name": "python"
  }
 },
 "nbformat": 4,
 "nbformat_minor": 2
}