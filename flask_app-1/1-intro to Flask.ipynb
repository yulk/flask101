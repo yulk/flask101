{
 "cells": [
  {
   "cell_type": "markdown",
   "source": [
    "# FLASK 介绍\r\n",
    "\r\n",
    "FLASK 是 Armin Ronacher 在2010年写的 Python 的微框架。微是什么意思？\r\n",
    "\r\n",
    "微意味着 `FLASK` 很小。它没有其他流行的 Python 框架如 Django 或 Pyramid 提供的特定工具集或库。`FLASK` 的设计考虑了延展性。它只提供一组核心特性，其余的工作依赖于扩展。开箱即用. Flask 不支持访问数据库、表单验证、身份验证、文件上传等功能。要将这些函数添加到应用程序中，必须使用扩展。因为您可以选择您想要的扩展。你最终会得到精简的堆栈，而没有任何额外的麻烦。\r\n",
    "\r\n",
    "FLASK 对于如何构建应用程序也没有那么严格。不像 Django 这样的框架，你必须遵循严格的规则。在 Flask 中，您可以自由地按照自己想要的方式构建应用程序。"
   ],
   "metadata": {}
  }
 ],
 "metadata": {
  "orig_nbformat": 4,
  "language_info": {
   "name": "python"
  }
 },
 "nbformat": 4,
 "nbformat_minor": 2
}